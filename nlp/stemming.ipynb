{
 "cells": [
  {
   "cell_type": "markdown",
   "id": "c73a1698",
   "metadata": {},
   "source": [
    "## Stemming"
   ]
  },
  {
   "cell_type": "markdown",
   "id": "b8143b59",
   "metadata": {},
   "source": [
    "Stemming involves removing suffixes from words to find the root form (or stem) of the word. It's helpful in tasks like text classification, search, and information retrieval, where different forms of a word (e.g., \"connect\", \"connected\", \"connection\") should be treated as equivalent"
   ]
  },
  {
   "cell_type": "code",
   "execution_count": 13,
   "id": "1123c90e",
   "metadata": {},
   "outputs": [],
   "source": [
    "words = ['write','eaten','ate','eating','writing','written','find','found','findings']"
   ]
  },
  {
   "cell_type": "code",
   "execution_count": 14,
   "id": "4a8e9327",
   "metadata": {},
   "outputs": [
    {
     "name": "stdout",
     "output_type": "stream",
     "text": [
      "write ----> write\n",
      "eaten ----> eaten\n",
      "ate ----> ate\n",
      "eating ----> eat\n",
      "writing ----> write\n",
      "written ----> written\n",
      "find ----> find\n",
      "found ----> found\n",
      "findings ----> find\n"
     ]
    }
   ],
   "source": [
    "## Porter Stemmer\n",
    "from nltk.stem import PorterStemmer\n",
    "stemming = PorterStemmer()\n",
    "for word in words:\n",
    "    print(word,'---->',stemming.stem(word))"
   ]
  },
  {
   "cell_type": "markdown",
   "id": "581b433a",
   "metadata": {},
   "source": [
    "## Regexp Stemmer"
   ]
  },
  {
   "cell_type": "markdown",
   "id": "1c1a34c8",
   "metadata": {},
   "source": [
    "It's a simple stemmer that removes user-specified suffixes (or prefixes) using a regular expression. It doesn’t use linguistic rules or a large set of suffix-stripping rules like PorterStemmer—it’s more manual and customizable."
   ]
  },
  {
   "cell_type": "code",
   "execution_count": null,
   "id": "daeb3555",
   "metadata": {},
   "outputs": [
    {
     "data": {
      "text/plain": [
       "'eat'"
      ]
     },
     "execution_count": 27,
     "metadata": {},
     "output_type": "execute_result"
    }
   ],
   "source": [
    "from nltk.stem import RegexpStemmer\n",
    "stemming = RegexpStemmer('ing|able$|en$|ed$', min=4)\n",
    "stemming.stem('ingeating')"
   ]
  },
  {
   "cell_type": "markdown",
   "id": "e8e5fc7f",
   "metadata": {},
   "source": [
    "## Snowball Stemmer"
   ]
  },
  {
   "cell_type": "markdown",
   "id": "1803c41e",
   "metadata": {},
   "source": [
    "Snowball Stemmer is better version of porter stemmer and widely used for stemming. It has language support as well."
   ]
  },
  {
   "cell_type": "code",
   "execution_count": null,
   "id": "d3cb7a52",
   "metadata": {},
   "outputs": [],
   "source": [
    "from nltk.stem import SnowballStemmer\n",
    "SnowballStemmer('english')"
   ]
  }
 ],
 "metadata": {
  "kernelspec": {
   "display_name": "Python 3",
   "language": "python",
   "name": "python3"
  },
  "language_info": {
   "codemirror_mode": {
    "name": "ipython",
    "version": 3
   },
   "file_extension": ".py",
   "mimetype": "text/x-python",
   "name": "python",
   "nbconvert_exporter": "python",
   "pygments_lexer": "ipython3",
   "version": "3.9.0"
  }
 },
 "nbformat": 4,
 "nbformat_minor": 5
}
